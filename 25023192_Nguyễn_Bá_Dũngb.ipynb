{
  "nbformat": 4,
  "nbformat_minor": 0,
  "metadata": {
    "colab": {
      "provenance": []
    },
    "kernelspec": {
      "name": "python3",
      "display_name": "Python 3"
    },
    "language_info": {
      "name": "python"
    }
  },
  "cells": [
    {
      "cell_type": "markdown",
      "source": [
        "W3A2"
      ],
      "metadata": {
        "id": "IBlRJymDjBaf"
      }
    },
    {
      "cell_type": "code",
      "source": [
        "a = int(input(\"Nhập a\"))\n",
        "b = int(input(\"Nhập b\"))\n",
        "a = a ^ b\n",
        "b = a ^ b\n",
        "a = a ^ b\n",
        "print(a,b)\n"
      ],
      "metadata": {
        "colab": {
          "base_uri": "https://localhost:8080/"
        },
        "id": "lLqY74oHjCYf",
        "outputId": "8d6c4a5d-2658-4fba-fde5-9704b10e526b"
      },
      "execution_count": 13,
      "outputs": [
        {
          "output_type": "stream",
          "name": "stdout",
          "text": [
            "Nhập a1\n",
            "Nhập b2\n",
            "2 1\n"
          ]
        }
      ]
    },
    {
      "cell_type": "markdown",
      "source": [
        "W3A3"
      ],
      "metadata": {
        "id": "fSAGnVnnjFLn"
      }
    },
    {
      "cell_type": "code",
      "source": [
        "n = int(input(\"Nhập N: \"))\n",
        "if n > 0 and (n & (n - 1)) == 0:\n",
        "  print(\"YES\")\n",
        "else:\n",
        "  print(\"NO\")"
      ],
      "metadata": {
        "colab": {
          "base_uri": "https://localhost:8080/"
        },
        "id": "NYKYE5AFjGZ-",
        "outputId": "72bb152b-ed02-4b24-b99a-d5232fe4063d"
      },
      "execution_count": 1,
      "outputs": [
        {
          "output_type": "stream",
          "name": "stdout",
          "text": [
            "Nhập N: 4\n",
            "YES\n"
          ]
        }
      ]
    },
    {
      "cell_type": "markdown",
      "source": [
        "W3A4"
      ],
      "metadata": {
        "id": "NmRFvLZgjpVP"
      }
    },
    {
      "cell_type": "code",
      "source": [
        "m = int(input(\"Nhập M: \"))\n",
        "n = int(input(\"Nhập N: \"))\n",
        "result = m // n\n",
        "print(result)"
      ],
      "metadata": {
        "id": "apTLAGrwjqxe"
      },
      "execution_count": null,
      "outputs": []
    },
    {
      "cell_type": "markdown",
      "source": [
        "W2A5"
      ],
      "metadata": {
        "id": "WXey6WbEk9Au"
      }
    },
    {
      "cell_type": "code",
      "source": [
        "import math\n",
        "m = int(input(\"Nhập M: \"))\n",
        "n = int(input(\"Nhập N: \"))\n",
        "result = m / n\n",
        "rounded_result = math.ceil(result)\n",
        "print(rounded_result)"
      ],
      "metadata": {
        "id": "E4vi5wfdlB1m"
      },
      "execution_count": null,
      "outputs": []
    },
    {
      "cell_type": "markdown",
      "source": [
        "W2A6"
      ],
      "metadata": {
        "id": "TasWg7VmlLAP"
      }
    },
    {
      "cell_type": "code",
      "source": [
        "x = int(input(\"Nhập X: \"))\n",
        "if x % 2 == 0:\n",
        "    print(\"Even\")\n",
        "else:\n",
        "    print(\"Odd\")"
      ],
      "metadata": {
        "id": "D-PgJSTDlL22"
      },
      "execution_count": null,
      "outputs": []
    },
    {
      "cell_type": "markdown",
      "source": [
        "W2A7"
      ],
      "metadata": {
        "id": "2Cu3MbVnlPN2"
      }
    },
    {
      "cell_type": "code",
      "metadata": {
        "colab": {
          "base_uri": "https://localhost:8080/"
        },
        "id": "edd212fe",
        "outputId": "93e6594f-3b28-4e11-a565-a291baf5488e"
      },
      "source": [
        "a = int(input(\"Nhập a: \"))\n",
        "b = int(input(\"Nhập b: \"))\n",
        "if a < 0 and b < 0:\n",
        "  print(\"Yes\")\n",
        "else:\n",
        "  print(\"No\")"
      ],
      "execution_count": 8,
      "outputs": [
        {
          "output_type": "stream",
          "name": "stdout",
          "text": [
            "Nhập a: -1\n",
            "Nhập b: -1\n",
            "Yes\n"
          ]
        }
      ]
    },
    {
      "cell_type": "markdown",
      "source": [
        "W2A8"
      ],
      "metadata": {
        "id": "0Gb5WxA9lZzu"
      }
    },
    {
      "cell_type": "code",
      "metadata": {
        "id": "ecf868ef"
      },
      "source": [
        "a = input(\"Nhập chuỗi a: \")\n",
        "b = input(\"Nhập chuỗi b: \")\n",
        "if len(a) > len(b):\n",
        "    print(\"True\")\n",
        "else:\n",
        "    print(\"False\")"
      ],
      "execution_count": null,
      "outputs": []
    },
    {
      "cell_type": "markdown",
      "source": [
        "W2A9"
      ],
      "metadata": {
        "id": "O8ObtlmQljDe"
      }
    },
    {
      "cell_type": "code",
      "source": [
        "a = int(input(\"Nhập A: \"))\n",
        "b = int(input(\"Nhập B: \"))\n",
        "c = int(input(\"Nhập C: \"))\n",
        "if a + b > c and b + c > a and a + c > b:\n",
        "    print(\"Đây là tam giác\")\n",
        "else:\n",
        "    print(\"Đây không phải tam giác\")"
      ],
      "metadata": {
        "id": "D_6BwSmZlkMO"
      },
      "execution_count": null,
      "outputs": []
    },
    {
      "cell_type": "markdown",
      "source": [
        "W2A10"
      ],
      "metadata": {
        "id": "3Y-cTJxslwUI"
      }
    },
    {
      "cell_type": "code",
      "source": [
        "import math\n",
        "a = int(input(\"Nhập A: \"))\n",
        "b = int(input(\"Nhập B: \"))\n",
        "c = int(input(\"Nhập C: \"))\n",
        "d = int(input(\"Nhập D: \"))\n",
        "print(max(a, b, c, d))"
      ],
      "metadata": {
        "colab": {
          "base_uri": "https://localhost:8080/"
        },
        "id": "zzAfV-WvlxTe",
        "outputId": "84b5059f-332c-465b-a923-0e26613a4ace"
      },
      "execution_count": 9,
      "outputs": [
        {
          "output_type": "stream",
          "name": "stdout",
          "text": [
            "Nhập A: 1\n",
            "Nhập B: 2\n",
            "Nhập C: 3\n",
            "Nhập D: 4\n",
            "4\n"
          ]
        }
      ]
    },
    {
      "cell_type": "markdown",
      "source": [
        "W2A11"
      ],
      "metadata": {
        "id": "mzevfizPmLHG"
      }
    },
    {
      "cell_type": "code",
      "source": [
        "a = int(input(\"Nhập A: \"))\n",
        "b = int(input(\"Nhập B: \"))\n",
        "c = int(input(\"Nhập C: \"))\n",
        "if a + b > c and b + c > a and c + a > b:\n",
        "    if a == b == c:\n",
        "        print(\"Tam giác đều\")\n",
        "    elif a == b or b == c or c == a:\n",
        "        print(\"Tam giác cân\")\n",
        "    else:\n",
        "        print(\"Tam giác thường\")\n",
        "else:\n",
        "    print(\"Không phải tam giác\")"
      ],
      "metadata": {
        "id": "FnOCjnYAmQVW"
      },
      "execution_count": null,
      "outputs": []
    },
    {
      "cell_type": "markdown",
      "source": [
        "W2A12"
      ],
      "metadata": {
        "id": "nL842HYsmumO"
      }
    },
    {
      "cell_type": "code",
      "source": [
        "nam = int(input(\"Nhập năm: \"))\n",
        "if nam % 4 == 0 and (nam % 100 != 0 or nam % 400 == 0):\n",
        "    print(\"YES\")\n",
        "else:\n",
        "    print(\"NO\")"
      ],
      "metadata": {
        "colab": {
          "base_uri": "https://localhost:8080/"
        },
        "id": "I99aDr_bmvwO",
        "outputId": "fdbd6ac9-ff23-4396-a11c-09b2ef9c4109"
      },
      "execution_count": 11,
      "outputs": [
        {
          "output_type": "stream",
          "name": "stdout",
          "text": [
            "Nhập năm: 2014\n",
            "NO\n"
          ]
        }
      ]
    },
    {
      "cell_type": "markdown",
      "source": [
        "**W2A14**"
      ],
      "metadata": {
        "id": "j6HTTz-RnCnm"
      }
    },
    {
      "cell_type": "code",
      "source": [
        "a = float(input(\"Nhập A: \"))\n",
        "b = float(input(\"Nhập B: \"))\n",
        "if a == 0:\n",
        "    if b == 0:\n",
        "        print(\"Vô số nghiệm\")\n",
        "    else:\n",
        "        print(\"Vô nghiệm\")\n",
        "else:\n",
        "    x = -b / a\n",
        "    print(f\"Nghiệm của phương trình là: {x:.2f}\")"
      ],
      "metadata": {
        "id": "KbRG2-w9nEPe"
      },
      "execution_count": null,
      "outputs": []
    },
    {
      "cell_type": "markdown",
      "source": [
        "W2A15"
      ],
      "metadata": {
        "id": "4Sqi6cVUnvS2"
      }
    },
    {
      "cell_type": "code",
      "source": [
        "dhl = float(input(\"Nhap Diem fuck unikey: \"))\n",
        "if dhl >= 8.0:\n",
        "  print(\"Gioi\")\n",
        "elif 6.5 <= dhl <= 8.0:\n",
        "  print(\"Kha\")\n",
        "elif 5.0 <= dhl <= 6.5:\n",
        "  print(\"Trung binh\")\n",
        "else:\n",
        "  print(\"Yeu\")"
      ],
      "metadata": {
        "id": "iuFXHQCUn0EP"
      },
      "execution_count": null,
      "outputs": []
    },
    {
      "cell_type": "markdown",
      "source": [
        "W2A17"
      ],
      "metadata": {
        "id": "LlibkKfvoXKX"
      }
    },
    {
      "cell_type": "code",
      "source": [
        "a = int(input(\"Nhập a:\"))\n",
        "b = int(input(\"Nhập b:\"))\n",
        "c = int(input(\"Nhập c:\"))\n",
        "d = int(input(\"Nhập d:\"))\n",
        "if b % a == 0:\n",
        "    q = b // a\n",
        "    if b * q == c and c * q == d:\n",
        "        print(\"Đây là cấp số nhân với công bội nguyên\", q)\n",
        "    else:\n",
        "        print(\"Không phải cấp số nhân\")\n",
        "else:\n",
        "    print(\"Không phải cấp số nhân\")"
      ],
      "metadata": {
        "id": "K3TUDnRmos6u"
      },
      "execution_count": null,
      "outputs": []
    },
    {
      "cell_type": "markdown",
      "source": [
        "W2A16"
      ],
      "metadata": {
        "id": "hO2Qg2zspXHO"
      }
    },
    {
      "cell_type": "code",
      "source": [
        "import math\n",
        "x = float(input(\"Nhập X: \"))\n",
        "print(math.ceil(x))\n",
        "print(math.floor(x))\n",
        "print(round(x))"
      ],
      "metadata": {
        "id": "zCqcCq7spYJG"
      },
      "execution_count": null,
      "outputs": []
    }
  ]
}